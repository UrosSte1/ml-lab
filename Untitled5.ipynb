{
  "nbformat": 4,
  "nbformat_minor": 0,
  "metadata": {
    "colab": {
      "provenance": [],
      "authorship_tag": "ABX9TyPKSy5qriaCzncfr7L4oqN5",
      "include_colab_link": true
    },
    "kernelspec": {
      "name": "python3",
      "display_name": "Python 3"
    },
    "language_info": {
      "name": "python"
    }
  },
  "cells": [
    {
      "cell_type": "markdown",
      "metadata": {
        "id": "view-in-github",
        "colab_type": "text"
      },
      "source": [
        "<a href=\"https://colab.research.google.com/github/UrosSte1/ml-lab/blob/main/Untitled5.ipynb\" target=\"_parent\"><img src=\"https://colab.research.google.com/assets/colab-badge.svg\" alt=\"Open In Colab\"/></a>"
      ]
    },
    {
      "cell_type": "code",
      "execution_count": 20,
      "metadata": {
        "colab": {
          "base_uri": "https://localhost:8080/"
        },
        "id": "6fFsLlIItn0z",
        "outputId": "285eaab8-7cc4-47bb-b4bf-f4bbb9707cc6"
      },
      "outputs": [
        {
          "output_type": "stream",
          "name": "stdout",
          "text": [
            "Inicialne vrednosti parametra su [ 0.49671415 -0.1382643 ]\n"
          ]
        }
      ],
      "source": [
        "from sklearn.model_selection import train_test_split\n",
        "from sklearn.metrics import mean_squared_error\n",
        "import numpy as np\n",
        "\n",
        "\n",
        "np.random.seed(42)\n",
        "\n",
        "#parametri\n",
        "theta=np.random.randn(2)\n",
        "\n",
        "#hiperparametri\n",
        "epohe=100\n",
        "eta=0.1\n",
        "\n",
        "print(f\"Inicialne vrednosti parametra su {theta}\")\n",
        "\n",
        "#def se 2 parametra\n",
        "#tolerancije min vrednost postenje koje je dalo neko poboljsanje\n",
        "#stpljenje koliko epoha cu biti stpljiv npr 10 ako prodje i nije ost min poboljsanje koje ocekujemo"
      ]
    },
    {
      "cell_type": "code",
      "source": [
        "%matplotlib inline\n",
        "import seaborn as sns\n",
        "import matplotlib.pyplot as plt\n",
        "\n",
        "\n",
        "#Generisanje skupa podataka\n",
        "n_slucajeva=100\n",
        "X=5*np.random.rand(n_slucajeva)\n",
        "y=7+3*X+np.random.randn(n_slucajeva)\n",
        "#random uniformalna raspodela\n",
        "#randn normalna raspodela\n",
        "space=np.linspace(0,5,)\n",
        "y_line=theta[0]+(theta[1]*space)\n",
        "sns.scatterplot(x=X,y=y)\n",
        "sns.lineplot(x=space,y=y_line)\n",
        "plt.show()\n"
      ],
      "metadata": {
        "colab": {
          "base_uri": "https://localhost:8080/",
          "height": 430
        },
        "id": "xRQ287QxvOAk",
        "outputId": "fcd9b0bb-674c-48f7-b69d-635c1382987e"
      },
      "execution_count": 19,
      "outputs": [
        {
          "output_type": "display_data",
          "data": {
            "text/plain": [
              "<Figure size 640x480 with 1 Axes>"
            ],
            "image/png": "[encoded data removed]"
          },
          "metadata": {}
        }
      ]
    },
    {
      "cell_type": "code",
      "source": [
        "figures=[]\n",
        "losses={}\n",
        "for epoch in range(epohe):\n",
        "  #racunamo predikciju modela\n",
        "  y_pred=theta[0]+theta[1]*X\n",
        "\n",
        " #na osnovu predikcije modela racunamo gresku\n",
        " mse = mean_squared_error( y, y_pred)\n",
        "\n",
        " #racunamo gradijent\n",
        " grad0= -2*np.mean(y - y_pred)\n",
        " grad1= -2*np.mean(X*(y-y_pred))\n",
        "\n",
        " #primenjujemo gradijent na parametre modela\n",
        " theta[0] -=eta *grad0\n",
        " theta[1] -=eta*grad1\n",
        "\n",
        " y_line=theta[0]+theta[1]*space\n",
        " y_pred=theta[0]+theta[1]*X\n",
        " mse=mean_squared_error(y,y_pred)\n",
        " sns.scatterplot(x=X,y=y)\n",
        " sns.lineplot(x=space,y=y_line)\n",
        " plt.title(f\"{epoch+1},epoha\")\n",
        " plt.suptitle(f\"MSE:{mse}\")\n",
        " fig,_=plt.subplots()\n",
        " figures.append(fig)\n",
        " losses[epoch+1]=mse\n",
        "plt.clf()"
      ],
      "metadata": {
        "colab": {
          "base_uri": "https://localhost:8080/",
          "height": 106
        },
        "id": "mUu2RndK0PIc",
        "outputId": "00bdc63a-b54f-495a-c6db-cd0b3329aff1"
      },
      "execution_count": 30,
      "outputs": [
        {
          "output_type": "error",
          "ename": "IndentationError",
          "evalue": "unindent does not match any outer indentation level (<tokenize>, line 8)",
          "traceback": [
            "\u001b[0;36m  File \u001b[0;32m\"<tokenize>\"\u001b[0;36m, line \u001b[0;32m8\u001b[0m\n\u001b[0;31m    mse = mean_squared_error( y, y_pred)\u001b[0m\n\u001b[0m    ^\u001b[0m\n\u001b[0;31mIndentationError\u001b[0m\u001b[0;31m:\u001b[0m unindent does not match any outer indentation level\n"
          ]
        }
      ]
    }
  ]
}