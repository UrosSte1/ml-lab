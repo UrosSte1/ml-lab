{
  "nbformat": 4,
  "nbformat_minor": 0,
  "metadata": {
    "colab": {
      "provenance": [],
      "authorship_tag": "ABX9TyMd1OG+85HCftkzh30v39Gg",
      "include_colab_link": true
    },
    "kernelspec": {
      "name": "python3",
      "display_name": "Python 3"
    },
    "language_info": {
      "name": "python"
    }
  },
  "cells": [
    {
      "cell_type": "markdown",
      "metadata": {
        "id": "view-in-github",
        "colab_type": "text"
      },
      "source": [
        "<a href=\"https://colab.research.google.com/github/UrosSte1/ml-lab/blob/main/Untitled13.ipynb\" target=\"_parent\"><img src=\"https://colab.research.google.com/assets/colab-badge.svg\" alt=\"Open In Colab\"/></a>"
      ]
    },
    {
      "cell_type": "code",
      "execution_count": null,
      "metadata": {
        "id": "d-BWCyBj7duJ"
      },
      "outputs": [],
      "source": []
    },
    {
      "cell_type": "code",
      "source": [
        "import torch\n",
        "\n",
        "class Perceptron(torch.nn.Module):\n",
        "    def __init__(self, input_dim):\n",
        "        super().__init__()\n",
        "        self.linear = torch.nn.Linear(input_dim, 1)\n",
        "\n",
        "    def forward(self, x):\n",
        "        return torch.sigmoid(self.linear(x))\n"
      ],
      "metadata": {
        "id": "omNJ7p0C74-d"
      },
      "execution_count": null,
      "outputs": []
    },
    {
      "cell_type": "code",
      "source": [
        "def train(model, train_inputs, train_labels, epochs=100, learning_rate=0.001):\n",
        "    optimizer = torch.optim.SGD(model.parameters(), lr=learning_rate)\n",
        "    criterion = torch.nn.BCEWithLogitsLoss()\n",
        "\n",
        "    for epoch in range(epochs):\n",
        "        optimizer.zero_grad()\n",
        "        output = model(train_inputs)\n",
        "        loss = criterion(output, train_labels)\n",
        "        loss.backward()\n",
        "        optimizer.step()\n"
      ],
      "metadata": {
        "id": "zUOcsz3177RP"
      },
      "execution_count": null,
      "outputs": []
    },
    {
      "cell_type": "code",
      "source": [
        "def test(model, test_inputs, test_labels):\n",
        "    output = model(test_inputs)\n",
        "    correct = 0\n",
        "    for i in range(len(test_labels)):\n",
        "        if output[i] > 0.5:\n",
        "            prediction = 1\n",
        "        else:\n",
        "            prediction = 0\n",
        "        if prediction == test_labels[i]:\n",
        "            correct += 1\n",
        "    return correct / len(test_labels)"
      ],
      "metadata": {
        "id": "8g3R3vY877QV"
      },
      "execution_count": null,
      "outputs": []
    },
    {
      "cell_type": "code",
      "source": [
        "# Define the input and output data\n",
        "X = torch.Tensor([[0, 0], [0, 1], [1, 0], [1, 1]])\n",
        "y = torch.Tensor([[0], [1], [1], [0]])\n",
        "\n",
        "# Create an instance of the Perceptron class\n",
        "model = Perceptron(2)\n",
        "\n",
        "# Train the model\n",
        "train(model, X, y, epochs=1000)\n",
        "\n",
        "# Test the model\n",
        "accuracy = test(model, X, y)\n",
        "print(f'Accuracy: {accuracy:.2f}')"
      ],
      "metadata": {
        "id": "mQNyNppc8AVW"
      },
      "execution_count": null,
      "outputs": []
    },
    {
      "cell_type": "code",
      "source": [],
      "metadata": {
        "id": "UAvVmLr58AUt"
      },
      "execution_count": null,
      "outputs": []
    }
  ]
}